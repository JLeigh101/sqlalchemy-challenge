{
 "cells": [
  {
   "cell_type": "code",
   "execution_count": 1,
   "metadata": {},
   "outputs": [],
   "source": [
    "#import dependencies\n",
    "import numpy as np\n",
    "import sqlalchemy\n",
    "from sqlalchemy.ext.automap import automap_base\n",
    "from sqlalchemy import create_engine, func\n",
    "from sqlalchemy.orm import Session\n",
    "\n",
    "from flask import Flask, jsonify\n",
    "\n",
    "#database setup\n",
    "database_path = \"../Resources/hawaii.sqlite\"\n",
    "engine = create_engine(f\"sqlite:///{database_path}\")\n",
    "\n",
    "#reflect an existing database into a new model\n",
    "Base = automap_base()\n",
    "#reflect the tables\n",
    "Base.prepare(autoload_with=engine)"
   ]
  },
  {
   "cell_type": "code",
   "execution_count": 2,
   "metadata": {},
   "outputs": [],
   "source": [
    "#save database references to a table\n",
    "Measurement = Base.classes.measurement\n",
    "Station = Base.classes.station"
   ]
  },
  {
   "cell_type": "code",
   "execution_count": 3,
   "metadata": {},
   "outputs": [],
   "source": [
    "#flask setup\n",
    "app = Flask(__name__)"
   ]
  },
  {
   "cell_type": "code",
   "execution_count": 4,
   "metadata": {},
   "outputs": [],
   "source": [
    "@app.route(\"/\")\n",
    "def welcome():\n",
    "    \"\"\"List all available api routes\"\"\"\n",
    "    return(\n",
    "        f\"Available Routes:<br/>\"\n",
    "        f\"/api/v1.0/precipitation<br/>\"\n",
    "        f\"/api/v1.0/stations<br/>\"\n",
    "        f\"/api/v1.0/tobs<br/>\"\n",
    "    )"
   ]
  },
  {
   "cell_type": "code",
   "execution_count": 5,
   "metadata": {},
   "outputs": [],
   "source": [
    "#app routing for precip for the past 12 months\n",
    "@app.route(\"/api/v1.0/precipitation\")\n",
    "def precipitation():\n",
    "    #create session link\n",
    "    session = Session(engine)\n",
    "    #query the last 12 months of precip data\n",
    "    cutoff_date = '2016-08-23'\n",
    "    results = session.query(Measurement.date, Measurement.prcp).filter(Measurement.date > cutoff_date).all()\n",
    "    session.close()\n",
    "\n",
    "    #create a dictionary from the results and append to a list of precipitation_data\n",
    "    precip_data = []\n",
    "    for date, prcp in results:\n",
    "        precip_dict = {}\n",
    "        precip_dict[\"date\"] = date\n",
    "        precip_dict[\"prcp\"] = prcp\n",
    "        precip_data.append(precip_dict)\n",
    "\n",
    "    return jsonify(precip_data)\n",
    "\n"
   ]
  },
  {
   "cell_type": "code",
   "execution_count": 6,
   "metadata": {},
   "outputs": [],
   "source": [
    " #app routing for station list\n",
    "@app.route(\"/api/v1.0/stations\")\n",
    "def stations():\n",
    "    #create session link\n",
    "    session = Session(engine)\n",
    "    #query the names of all stations in the list\n",
    "    results = session.query(Measurement.station).distinct().all()\n",
    "    session.close()\n",
    "\n",
    "    #create a dictionary of the active stations and their counts\n",
    "    station_data = []\n",
    "    for station in results:\n",
    "        station_dict = {}\n",
    "        station_dict[\"station name\"] = station\n",
    "        station_data.append(station_dict)\n",
    "\n",
    "    return jsonify(station_data)"
   ]
  },
  {
   "cell_type": "code",
   "execution_count": 7,
   "metadata": {},
   "outputs": [],
   "source": [
    "#app routing for t_observed for the past 12 months\n",
    "@app.route(\"/api/v1.0/tobs\")\n",
    "def tobs():\n",
    "    #create session link\n",
    "    session = Session(engine)\n",
    "    #query the last 12 months of temperature data from the most active observation station \n",
    "    cutoff_date_12month = '2016-08-23'\n",
    "    results = session.query(Measurement.tobs).filter((Measurement.station == 'USC00519281') & (Measurement.date > cutoff_date_12month)).all()\n",
    "    session.close()\n",
    "\n",
    "    #create a dictionary of t_obs data for the most active station\n",
    "    tobs_data = []\n",
    "    for tobs in results:\n",
    "        tobs_dict = {}\n",
    "        tobs_dict[\"Oberved Temperature\"] = tobs\n",
    "        tobs_data.append(tobs_dict)\n",
    "\n",
    "    return jsonify(tobs_data)\n"
   ]
  },
  {
   "cell_type": "code",
   "execution_count": 8,
   "metadata": {},
   "outputs": [],
   "source": [
    "#app routing for min, max, avg temp for a given start date\n",
    "@app.route(\"/api/v1.0/\")\n",
    "def temps_start(start_date):\n",
    "    session = Session(engine)\n",
    "\n",
    "    results = session.query(func.avg(Measurement.tobs), func.min(Measurement.tobs), func.max(Measurement.tobs)).filter(Measurement.date >= start_date).all()\n",
    "\n",
    "    temp_data = []\n",
    "    for tobs in results:\n",
    "        temp_dict = {}\n",
    "        temp_dict[\"Average\"] = func.avg(Measurement.tobs)\n",
    "        temp_dict[\"Minimum\"] = func.min(Measurement.tobs)\n",
    "        temp_dict[\"Maximum\"] = func.max(Measurement.tobs)\n",
    "        temp_data.append(temp_dict)\n",
    "\n",
    "    return jsonify(temp_data)\n",
    "    "
   ]
  },
  {
   "cell_type": "code",
   "execution_count": 9,
   "metadata": {},
   "outputs": [],
   "source": [
    "#app routing for min, max, avg temp for a given start date\n",
    "@app.route(\"/api/v1.0/\")\n",
    "def temps_start_end(start_date, end_date):\n",
    "    session = Session(engine)\n",
    "\n",
    "    results = session.query(func.avg(Measurement.tobs), func.min(Measurement.tobs), func.max(Measurement.tobs)).\\\n",
    "    filter((Measurement.date >= start_date)&(Measurement.date <= end_date)).\\\n",
    "    all()\n",
    "\n",
    "    temp_data = []\n",
    "    for tobs in results:\n",
    "        temp_dict = {}\n",
    "        temp_dict[\"Average\"] = func.avg(Measurement.tobs)\n",
    "        temp_dict[\"Minimum\"] = func.min(Measurement.tobs)\n",
    "        temp_dict[\"Maximum\"] = func.max(Measurement.tobs)\n",
    "        temp_data.append(temp_dict)\n",
    "\n",
    "    return jsonify(temp_data)"
   ]
  },
  {
   "cell_type": "code",
   "execution_count": 10,
   "metadata": {},
   "outputs": [
    {
     "name": "stdout",
     "output_type": "stream",
     "text": [
      " * Serving Flask app \"__main__\" (lazy loading)\n",
      " * Environment: production\n",
      "\u001b[31m   WARNING: This is a development server. Do not use it in a production deployment.\u001b[0m\n",
      "\u001b[2m   Use a production WSGI server instead.\u001b[0m\n",
      " * Debug mode: on\n"
     ]
    },
    {
     "name": "stderr",
     "output_type": "stream",
     "text": [
      " * Restarting with watchdog (windowsapi)\n"
     ]
    },
    {
     "ename": "SystemExit",
     "evalue": "1",
     "output_type": "error",
     "traceback": [
      "An exception has occurred, use %tb to see the full traceback.\n",
      "\u001b[1;31mSystemExit\u001b[0m\u001b[1;31m:\u001b[0m 1\n"
     ]
    },
    {
     "name": "stderr",
     "output_type": "stream",
     "text": [
      "c:\\Users\\John\\anaconda3\\lib\\site-packages\\IPython\\core\\interactiveshell.py:3465: UserWarning: To exit: use 'exit', 'quit', or Ctrl-D.\n",
      "  warn(\"To exit: use 'exit', 'quit', or Ctrl-D.\", stacklevel=1)\n"
     ]
    }
   ],
   "source": [
    "if __name__ == '__main__':\n",
    "    app.run(debug=True)"
   ]
  },
  {
   "cell_type": "code",
   "execution_count": null,
   "metadata": {},
   "outputs": [],
   "source": []
  }
 ],
 "metadata": {
  "kernelspec": {
   "display_name": "base",
   "language": "python",
   "name": "python3"
  },
  "language_info": {
   "codemirror_mode": {
    "name": "ipython",
    "version": 3
   },
   "file_extension": ".py",
   "mimetype": "text/x-python",
   "name": "python",
   "nbconvert_exporter": "python",
   "pygments_lexer": "ipython3",
   "version": "3.9.13"
  },
  "orig_nbformat": 4
 },
 "nbformat": 4,
 "nbformat_minor": 2
}
